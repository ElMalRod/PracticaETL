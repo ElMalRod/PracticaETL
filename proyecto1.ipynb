{
 "cells": [
  {
   "cell_type": "markdown",
   "id": "c0ba1573",
   "metadata": {},
   "source": [
    "# Proyecto 1: Análisis de Datos Pandemia 2020\n",
    "Este proyecto realiza un análisis de datos utilizando datos recopilados durante la pandemia del 2020. \n",
    "Se enfoca en la exploración de datos (EDA), identificación de valores atípicos y análisis multivariado.  "
   ]
  },
  {
   "cell_type": "markdown",
   "id": "440caa02",
   "metadata": {},
   "source": [
    "## Importación de librerías necesarias"
   ]
  },
  {
   "cell_type": "code",
   "execution_count": null,
   "id": "680d71ad",
   "metadata": {},
   "outputs": [],
   "source": [
    "import pandas as pd\n",
    "from sqlalchemy import create_engine\n",
    "import matplotlib.pyplot as plt\n",
    "import seaborn as sns\n",
    "import numpy as np\n",
    "from scipy.stats import chi2_contingency\n",
    "from statsmodels.stats.outliers_influence import variance_inflation_factor"
   ]
  },
  {
   "cell_type": "markdown",
   "id": "5fec65f1",
   "metadata": {},
   "source": [
    "## Configuración de conexión a la base de datos"
   ]
  },
  {
   "cell_type": "code",
   "execution_count": null,
   "id": "a0111d0b",
   "metadata": {},
   "outputs": [],
   "source": [
    "DB_CONNECTION = 'mysql+pymysql://root:@localhost/pandemiaDB'\n",
    "engine = create_engine(DB_CONNECTION)"
   ]
  },
  {
   "cell_type": "markdown",
   "id": "92f6adf4",
   "metadata": {},
   "source": [
    "## Consulta para obtener datos relevantes"
   ]
  },
  {
   "cell_type": "code",
   "execution_count": null,
   "id": "57251aac",
   "metadata": {},
   "outputs": [],
   "source": [
    "query = '''\n",
    "SELECT i.fallecidos_municipio AS nuevas_muertes, \n",
    "       i.fallecidos_mundiales AS muertes_acumuladas, \n",
    "       m.poblacion AS poblacion, \n",
    "       m.nombre_municipio, \n",
    "       d.nombre_departamento\n",
    "FROM Integracion_Datos i\n",
    "JOIN Municipio m ON i.codigo_municipio = m.codigo_municipio\n",
    "JOIN Departamento d ON m.codigo_departamento = d.codigo_departamento\n",
    "'''"
   ]
  },
  {
   "cell_type": "markdown",
   "id": "c43b9b7d",
   "metadata": {},
   "source": [
    "## Cargar datos desde la base de datos"
   ]
  },
  {
   "cell_type": "code",
   "execution_count": null,
   "id": "d737ab01",
   "metadata": {},
   "outputs": [],
   "source": [
    "data = pd.read_sql_query(query, engine)\n",
    "print(\"Datos obtenidos de la base de datos:\")\n",
    "print(data.head())"
   ]
  },
  {
   "cell_type": "markdown",
   "id": "47b5c5e9",
   "metadata": {},
   "source": [
    "## EDA Monovariable: Datos Cuantitativos"
   ]
  },
  {
   "cell_type": "code",
   "execution_count": null,
   "id": "dbefa9ee",
   "metadata": {},
   "outputs": [],
   "source": [
    "print(\"\\nEstadísticas descriptivas de las variables cuantitativas:\")\n",
    "print(data[['nuevas_muertes', 'muertes_acumuladas', 'poblacion']].describe())\n",
    "\n",
    "variables = ['nuevas_muertes', 'muertes_acumuladas', 'poblacion']\n",
    "for var in variables:\n",
    "    plt.figure(figsize=(12, 6))\n",
    "    plt.hist(data[var], bins=30, color='blue', alpha=0.7)\n",
    "    plt.title(f\"Histograma de {var}\")\n",
    "    plt.xlabel(var)\n",
    "    plt.ylabel(\"Frecuencia\")\n",
    "    plt.show()\n",
    "\n",
    "    plt.figure(figsize=(12, 6))\n",
    "    sns.boxplot(x=data[var], color='green')\n",
    "    plt.title(f\"Diagrama de caja de {var}\")\n",
    "    plt.xlabel(var)\n",
    "    plt.show()"
   ]
  },
  {
   "cell_type": "markdown",
   "id": "1422b03a",
   "metadata": {},
   "source": [
    "### Observaciones de variables cuantitativas\n",
    "- **Método utilizado**: Histogramas y diagramas de caja generados con **Matplotlib** y **Seaborn**  para explorar la distribución y variabilidad de las variables cuantitativas.\n",
    "- **Nuevas muertes:** La mayoría de los municipios presentan valores cercanos a 0, pero existen municipios específicos que destacan como focos con niveles significativamente altos de mortalidad, lo que podría indicar eventos críticos o brotes localizados.\n",
    "- **Muertes acumuladas:** La alta dispersión observada sugiere grandes diferencias en la evolución de la pandemia, reflejando posibles desigualdades en acceso a recursos o efectividad de políticas de contención.\n",
    "- **Población:** Las distribuciones reflejan que los municipios más grandes presentan mayor variabilidad en las características de sus datos, mientras que los municipios más pequeños tienden a ser más homogéneos."
   ]
  },
  {
   "cell_type": "markdown",
   "id": "e9971263",
   "metadata": {},
   "source": [
    "## EDA Monovariable: Datos Cualitativos"
   ]
  },
  {
   "cell_type": "code",
   "execution_count": null,
   "id": "1929d03e",
   "metadata": {},
   "outputs": [],
   "source": [
    "# Mostrar el top 20 de municipios\n",
    "top_20_municipios = data['nombre_municipio'].value_counts().head(20)\n",
    "plt.figure(figsize=(12, 6))\n",
    "top_20_municipios.plot(kind='bar', color='purple')\n",
    "plt.title(\"Top 20 de Municipios con más registros\")\n",
    "plt.xlabel(\"Nombre del Municipio\")\n",
    "plt.ylabel(\"Frecuencia\")\n",
    "plt.xticks(rotation=90)\n",
    "plt.show()\n",
    "\n",
    "# Mostrar todos los departamentos\n",
    "plt.figure(figsize=(12, 6))\n",
    "data['nombre_departamento'].value_counts().plot(kind='bar', color='purple')\n",
    "plt.title(\"Conteo de registros por Departamento\")\n",
    "plt.xlabel(\"Nombre del Departamento\")\n",
    "plt.ylabel(\"Frecuencia\")\n",
    "plt.xticks(rotation=90)\n",
    "plt.show()"
   ]
  },
  {
   "cell_type": "markdown",
   "id": "308d328b",
   "metadata": {},
   "source": [
    "### Observaciones de variables cualitativas\n",
    "- **Método utilizado**: Gráficos de barras generados con **Matplotlib** para analizar frecuencias.\n",
    "- **Nombre municipio:** Los municipios en el top 20 muestran una representación desproporcionada, lo que podría estar vinculado a factores como densidad poblacional, centralización de reportes o capacidad de medición.\n",
    "- **Nombre departamento:** Los departamentos con mayor representación coinciden con áreas urbanas densamente pobladas como Guatemala y Escuintla, lo que podría reflejar tanto una mayor incidencia de la pandemia como una mejor infraestructura de registro."
   ]
  },
  {
   "cell_type": "markdown",
   "id": "e580ad94",
   "metadata": {},
   "source": [
    "## Identificación de outliers con rango intercuartílico (IQR)"
   ]
  },
  {
   "cell_type": "code",
   "execution_count": null,
   "id": "cd83812b",
   "metadata": {},
   "outputs": [],
   "source": [
    "for var in variables:\n",
    "    Q1 = data[var].quantile(0.25)\n",
    "    Q3 = data[var].quantile(0.75)\n",
    "    IQR = Q3 - Q1\n",
    "    lower_bound = Q1 - 1.5 * IQR\n",
    "    upper_bound = Q3 + 1.5 * IQR\n",
    "\n",
    "    outliers = data[(data[var] < lower_bound) | (data[var] > upper_bound)]\n",
    "    print(f\"\\nOutliers en {var}:\")\n",
    "    print(outliers)"
   ]
  },
  {
   "cell_type": "markdown",
   "id": "f4a838d0",
   "metadata": {},
   "source": [
    "## EDA Multivariable: Gráficas de dispersión"
   ]
  },
  {
   "cell_type": "code",
   "execution_count": null,
   "id": "2f422180",
   "metadata": {},
   "outputs": [],
   "source": [
    "sns.pairplot(data[['nuevas_muertes', 'muertes_acumuladas', 'poblacion']], diag_kind='kde')\n",
    "plt.show()"
   ]
  },
  {
   "cell_type": "code",
   "execution_count": null,
   "id": "7c5612e4",
   "metadata": {
    "lines_to_next_cell": 2
   },
   "outputs": [],
   "source": [
    "# Municipio vs Nuevas Muertes (Top 20)\n",
    "top_20_municipios = data.groupby('nombre_municipio')['nuevas_muertes'].sum().nlargest(20).reset_index()\n",
    "plt.figure(figsize=(12, 6))\n",
    "sns.barplot(x=top_20_municipios['nombre_municipio'], y=top_20_municipios['nuevas_muertes'], errorbar=None, color='skyblue')\n",
    "plt.title(\"Top 20 Municipios vs Nuevas Muertes\")\n",
    "plt.xlabel(\"Municipio\")\n",
    "plt.ylabel(\"Suma de Nuevas Muertes\")\n",
    "plt.xticks(rotation=90)\n",
    "plt.show()\n",
    "\n",
    "# Departamento vs Nuevas Muertes\n",
    "plt.figure(figsize=(12, 6))\n",
    "sns.barplot(x=data['nombre_departamento'], y=data['nuevas_muertes'], errorbar=None, color='skyblue', estimator=sum)\n",
    "plt.title(\"Departamento vs Nuevas Muertes\")\n",
    "plt.xlabel(\"Departamento\")\n",
    "plt.ylabel(\"Suma de Nuevas Muertes\")\n",
    "plt.xticks(rotation=90)\n",
    "plt.show()\n",
    "\n",
    "# Municipio vs Población\n",
    "top_20_municipios = data.groupby('nombre_municipio')['poblacion'].sum().nlargest(20).reset_index()\n",
    "plt.figure(figsize=(12, 6))\n",
    "sns.barplot(x=top_20_municipios['nombre_municipio'], y=top_20_municipios['poblacion'], errorbar=None, color='orange')\n",
    "plt.title(\"Top 20 Municipios vs Población\")\n",
    "plt.xlabel(\"Municipio\")\n",
    "plt.ylabel(\"Suma de Población\")\n",
    "plt.xticks(rotation=90)\n",
    "plt.show()\n",
    "\n",
    "# Departamento vs Población\n",
    "plt.figure(figsize=(12, 6))\n",
    "sns.barplot(x=data['nombre_departamento'], y=data['poblacion'], errorbar=None, color='orange', estimator=sum)\n",
    "plt.title(\"Departamento vs Población\")\n",
    "plt.xlabel(\"Departamento\")\n",
    "plt.ylabel(\"Suma de Población\")\n",
    "plt.xticks(rotation=90)\n",
    "plt.show()\n",
    "\n",
    "# Municipios vs Muertes Acumuladas\n",
    "top_20_municipios = data.groupby('nombre_municipio')['muertes_acumuladas'].sum().nlargest(20).reset_index()\n",
    "plt.figure(figsize=(12, 6))\n",
    "sns.barplot(x=top_20_municipios['nombre_municipio'], y=top_20_municipios['muertes_acumuladas'], errorbar=None, color='red')\n",
    "plt.title(\"Top 20 Municipios vs Muertes Acumuladas\")\n",
    "plt.xlabel(\"Municipio\")\n",
    "plt.ylabel(\"Suma de Muertes Acumuladas\")\n",
    "plt.xticks(rotation=90)\n",
    "plt.show()\n",
    "\n",
    "# Departamento vs Muertes Acumuladas\n",
    "plt.figure(figsize=(12, 6))\n",
    "sns.barplot(x=data['nombre_departamento'], y=data['muertes_acumuladas'], errorbar=None, color='red', estimator=sum)\n",
    "plt.title(\"Departamento vs Muertes Acumuladas\")\n",
    "plt.xlabel(\"Departamento\")\n",
    "plt.ylabel(\"Suma de Muertes Acumuladas\")\n",
    "plt.xticks(rotation=90)\n",
    "plt.show()"
   ]
  },
  {
   "cell_type": "markdown",
   "id": "8a1e6491",
   "metadata": {},
   "source": [
    "### Observaciones de variables cuantitativas multivariables\n",
    "- **Método utilizado**: Gráficas de dispersión generadas con **Seaborn** para analizar correlaciones entre variables.\n",
    "- **Población vs Muertes acumuladas:** La correlación positiva significativa indica que municipios con mayor población tienen mayores tasas de mortalidad acumulada, probablemente debido a mayor exposición o congestión.\n",
    "- **Muertes acumuladas vs Nuevas muertes:** La falta de correspondencia directa sugiere que algunos municipios experimentaron olas o picos en momentos diferentes, lo que amerita una revisión temporal detallada."
   ]
  },
  {
   "cell_type": "markdown",
   "id": "c81627cb",
   "metadata": {},
   "source": [
    "## Comparación cualitativos vs cuantitativos"
   ]
  },
  {
   "cell_type": "code",
   "execution_count": null,
   "id": "d2978223",
   "metadata": {},
   "outputs": [],
   "source": [
    "categorias_cuantitativas = ['nuevas_muertes', 'muertes_acumuladas', 'poblacion']\n",
    "categorias_cualitativas = ['nombre_departamento']\n",
    "\n",
    "for cual in categorias_cualitativas:\n",
    "    for cuant in categorias_cuantitativas:\n",
    "        plt.figure(figsize=(12, 6))\n",
    "        data.groupby(cual)[cuant].mean().plot(kind='bar', color='orange')\n",
    "        plt.title(f\"{cual} vs {cuant}\")\n",
    "        plt.xlabel(cual)\n",
    "        plt.ylabel(f\"Promedio de {cuant}\")\n",
    "        plt.xticks(rotation=90)\n",
    "        plt.show()"
   ]
  },
  {
   "cell_type": "markdown",
   "id": "1d720b57",
   "metadata": {
    "lines_to_next_cell": 2
   },
   "source": [
    "### Observaciones de variables cualitativas multivariables\n",
    "- **Método utilizado**: Gráficos de barras generados con **Matplotlib** para comparar promedios de categorías cualitativas con métricas cuantitativas.\n",
    "- **Nombre departamento vs Muertes acumuladas:**  Departamentos con mayor población, como Guatemala y Escuintla, muestran promedios más altos de mortalidad acumulada, lo que resalta desigualdades en la distribución de casos y fallecimientos."
   ]
  },
  {
   "cell_type": "markdown",
   "id": "19be56ca",
   "metadata": {},
   "source": [
    "## Análisis de Correlaciones Pearson, Spearman y Kendall)"
   ]
  },
  {
   "cell_type": "code",
   "execution_count": null,
   "id": "c70ad59e",
   "metadata": {
    "lines_to_next_cell": 2
   },
   "outputs": [],
   "source": [
    "# Matriz de correlación de Pearson\n",
    "pearson_corr = data[['nuevas_muertes', 'muertes_acumuladas', 'poblacion']].corr(method='pearson')\n",
    "plt.figure(figsize=(10, 8))\n",
    "sns.heatmap(pearson_corr, annot=True, cmap='coolwarm', fmt='.2f')\n",
    "plt.title(\"Matriz de Correlación (Pearson)\")\n",
    "plt.show()\n",
    "\n",
    "# Matriz de correlación de Spearman\n",
    "spearman_corr = data[['nuevas_muertes', 'muertes_acumuladas', 'poblacion']].corr(method='spearman')\n",
    "plt.figure(figsize=(10, 8))\n",
    "sns.heatmap(spearman_corr, annot=True, cmap='coolwarm', fmt='.2f')\n",
    "plt.title(\"Matriz de Correlación (Spearman)\")\n",
    "plt.show()\n",
    "\n",
    "# Coeficiente de correlación de Kendall\n",
    "kendall_corr = data[['nuevas_muertes', 'muertes_acumuladas', 'poblacion']].corr(method='kendall')\n",
    "plt.figure(figsize=(10, 8))\n",
    "sns.heatmap(kendall_corr, annot=True, cmap='coolwarm', fmt='.2f')\n",
    "plt.title(\"Matriz de Correlación (Kendall)\")\n",
    "plt.show()"
   ]
  },
  {
   "cell_type": "markdown",
   "id": "49aea228",
   "metadata": {},
   "source": [
    "## Análisis Gráfico del Test de Chi-cuadrado"
   ]
  },
  {
   "cell_type": "code",
   "execution_count": null,
   "id": "f06ae193",
   "metadata": {},
   "outputs": [],
   "source": [
    "# Visualizar los datos de contingencia para el análisis gráfico\n",
    "contingency_table = pd.crosstab(data['nombre_municipio'], data['nombre_departamento'])\n",
    "plt.figure(figsize=(12, 8))\n",
    "sns.heatmap(contingency_table, cmap='Blues', annot=False, cbar=True)\n",
    "plt.title(\"Tabla de Contingencia: Municipio vs Departamento\")\n",
    "plt.xlabel(\"Departamento\")\n",
    "plt.ylabel(\"Municipio\")\n",
    "plt.show()\n",
    "\n",
    "# Interpretación de resultados\n",
    "print(\"\\nInterpretación del Test de Chi-cuadrado:\")\n",
    "chi2, p, dof, expected = chi2_contingency(contingency_table)\n",
    "print(f\"Chi2: {chi2}, p-valor: {p}\")\n",
    "if p < 0.05:\n",
    "    print(\"Existe una asociación estadísticamente significativa entre Municipio y Departamento.\")\n",
    "else:\n",
    "    print(\"No existe una asociación estadísticamente significativa entre Municipio y Departamento.\")"
   ]
  },
  {
   "cell_type": "markdown",
   "id": "91ce6021",
   "metadata": {},
   "source": [
    "## Análisis de Multicolinealidad"
   ]
  },
  {
   "cell_type": "code",
   "execution_count": null,
   "id": "c2e47621",
   "metadata": {},
   "outputs": [],
   "source": [
    "# Seleccionar las variables independientes\n",
    "X = data[['nuevas_muertes', 'muertes_acumuladas', 'poblacion']].copy()\n",
    "# Agregar una columna de intercepto\n",
    "X['intercept'] = 1\n",
    "# Crear el DataFrame para almacenar el resultado del VIF\n",
    "vif_data = pd.DataFrame()\n",
    "vif_data['Variable'] = X.columns\n",
    "vif_data['VIF'] = [variance_inflation_factor(X.values, i) for i in range(X.shape[1])]\n",
    "X = X.drop(columns=['intercept'])\n",
    "\n",
    "print(\"Análisis de Multicolinealidad (VIF):\")\n",
    "print(vif_data)"
   ]
  },
  {
   "cell_type": "markdown",
   "id": "758b467d",
   "metadata": {},
   "source": [
    "## Mapas de Calor para Variables Cualitativas vs Cuantitativas"
   ]
  },
  {
   "cell_type": "code",
   "execution_count": null,
   "id": "6f198a89",
   "metadata": {},
   "outputs": [],
   "source": [
    "for cuant in categorias_cuantitativas:\n",
    "    plt.figure(figsize=(12, 8))\n",
    "    heatmap_data = data.pivot_table(values=cuant, index='nombre_departamento', columns='nombre_municipio', aggfunc='mean')\n",
    "    sns.heatmap(heatmap_data, cmap='YlGnBu', annot=False)\n",
    "    plt.title(f\"Mapa de calor: {cuant} por Municipio y Departamento\")\n",
    "    plt.xlabel(\"Municipio\")\n",
    "    plt.ylabel(\"Departamento\")\n",
    "    plt.xticks(rotation=90)\n",
    "    plt.show()"
   ]
  },
  {
   "cell_type": "markdown",
   "id": "43aa7f46",
   "metadata": {},
   "source": [
    "## Conclusiones Detalladas"
   ]
  },
  {
   "cell_type": "markdown",
   "id": "ab229c8e",
   "metadata": {},
   "source": [
    "### Conclusiones Actualizadas\n",
    "1. **Disparidades Regionales:** Las áreas urbanas densamente pobladas como Guatemala y Escuintla presentan tasas más altas de mortalidad acumulada. Esto refleja desigualdades regionales en acceso a recursos médicos y políticas de contención.\n",
    "2. **Focos de Atención:** Los outliers identificados en los histogramas y diagramas de caja destacan municipios que requieren atención prioritaria debido a eventos críticos o brotes localizados.\n",
    "3. **Impacto del Tamaño Poblacional:** El análisis de correlación muestra una relación fuerte entre la población y las muertes acumuladas, lo que sugiere que los municipios más grandes deben ser priorizados en la asignación de recursos.\n",
    "4. **Multicolinealidad Baja:** Los resultados del análisis de multicolinealidad (VIF) muestran que las variables clave tienen niveles aceptables de independencia, asegurando la validez de los modelos estadísticos utilizados.\n",
    "5. **Asociaciones entre Variables Categóricas:** El test de Chi-cuadrado confirma una asociación significativa entre municipio y departamento, lo que implica que los patrones de mortalidad están influidos por características específicas de cada región."
   ]
  }
 ],
 "metadata": {
  "jupytext": {
   "cell_metadata_filter": "-all",
   "main_language": "python",
   "notebook_metadata_filter": "-all"
  },
  "kernelspec": {
   "display_name": ".venv",
   "language": "python",
   "name": "python3"
  },
  "language_info": {
   "name": "python",
   "version": "3.12.6"
  }
 },
 "nbformat": 4,
 "nbformat_minor": 5
}
